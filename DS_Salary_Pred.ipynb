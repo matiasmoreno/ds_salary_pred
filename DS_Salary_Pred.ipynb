{
 "cells": [
  {
   "cell_type": "markdown",
   "metadata": {},
   "source": [
    "# Data Science project to predict Data scientists salaries"
   ]
  },
  {
   "cell_type": "code",
   "execution_count": 32,
   "metadata": {},
   "outputs": [],
   "source": [
    "# Common libraries\n",
    "import pandas as pd\n",
    "import numpy as np"
   ]
  },
  {
   "cell_type": "markdown",
   "metadata": {},
   "source": [
    "## Data\n",
    "First we need to get some data. [Kaggle](https://www.kaggle.com/jaiganeshnagidi/data-scientist-salary) is a realy good scource from data of any type, also the community is large, we can find tutorials, competitions and los of datasets to work."
   ]
  },
  {
   "cell_type": "code",
   "execution_count": 3,
   "metadata": {},
   "outputs": [
    {
     "data": {
      "text/html": [
       "<div>\n",
       "<style scoped>\n",
       "    .dataframe tbody tr th:only-of-type {\n",
       "        vertical-align: middle;\n",
       "    }\n",
       "\n",
       "    .dataframe tbody tr th {\n",
       "        vertical-align: top;\n",
       "    }\n",
       "\n",
       "    .dataframe thead th {\n",
       "        text-align: right;\n",
       "    }\n",
       "</style>\n",
       "<table border=\"1\" class=\"dataframe\">\n",
       "  <thead>\n",
       "    <tr style=\"text-align: right;\">\n",
       "      <th></th>\n",
       "      <th>Unnamed: 0</th>\n",
       "      <th>experience</th>\n",
       "      <th>job_description</th>\n",
       "      <th>job_desig</th>\n",
       "      <th>job_type</th>\n",
       "      <th>key_skills</th>\n",
       "      <th>location</th>\n",
       "      <th>salary</th>\n",
       "      <th>company_name_encoded</th>\n",
       "    </tr>\n",
       "  </thead>\n",
       "  <tbody>\n",
       "    <tr>\n",
       "      <th>0</th>\n",
       "      <td>0</td>\n",
       "      <td>5-7 yrs</td>\n",
       "      <td>Exp: Minimum 5 years;Good understanding of IOC...</td>\n",
       "      <td>Senior Exploit and Vulnerability Researcher</td>\n",
       "      <td>NaN</td>\n",
       "      <td>team skills, communication skills, analytical ...</td>\n",
       "      <td>Delhi NCR(Vikas Puri)</td>\n",
       "      <td>6to10</td>\n",
       "      <td>3687</td>\n",
       "    </tr>\n",
       "    <tr>\n",
       "      <th>1</th>\n",
       "      <td>1</td>\n",
       "      <td>10-17 yrs</td>\n",
       "      <td>He should have handled a team of atleast 5-6 d...</td>\n",
       "      <td>Head SCM</td>\n",
       "      <td>NaN</td>\n",
       "      <td>ppc, logistics, inventory management, supply c...</td>\n",
       "      <td>Sonepat</td>\n",
       "      <td>10to15</td>\n",
       "      <td>458</td>\n",
       "    </tr>\n",
       "    <tr>\n",
       "      <th>2</th>\n",
       "      <td>2</td>\n",
       "      <td>5-9 yrs</td>\n",
       "      <td>Must be an effective communicator (written &amp; s...</td>\n",
       "      <td>Deputy Manager - Talent Management &amp; Leadershi...</td>\n",
       "      <td>Analytics</td>\n",
       "      <td>HR Analytics, Employee Engagement, Training, S...</td>\n",
       "      <td>Delhi NCR</td>\n",
       "      <td>15to25</td>\n",
       "      <td>4195</td>\n",
       "    </tr>\n",
       "    <tr>\n",
       "      <th>3</th>\n",
       "      <td>3</td>\n",
       "      <td>7-10 yrs</td>\n",
       "      <td>7  -  10 years of overall experience in data e...</td>\n",
       "      <td>Associate Manager Data Engineering</td>\n",
       "      <td>Analytics</td>\n",
       "      <td>SQL, Javascript, Automation, Python, Ruby, Ana...</td>\n",
       "      <td>Bengaluru</td>\n",
       "      <td>10to15</td>\n",
       "      <td>313</td>\n",
       "    </tr>\n",
       "    <tr>\n",
       "      <th>4</th>\n",
       "      <td>4</td>\n",
       "      <td>1-3 yrs</td>\n",
       "      <td>Chartered Accountancy degree or MBA in Finance...</td>\n",
       "      <td>TS- GSA- Senior Analyst</td>\n",
       "      <td>NaN</td>\n",
       "      <td>accounting, finance, cash flow, financial plan...</td>\n",
       "      <td>Gurgaon</td>\n",
       "      <td>3to6</td>\n",
       "      <td>1305</td>\n",
       "    </tr>\n",
       "  </tbody>\n",
       "</table>\n",
       "</div>"
      ],
      "text/plain": [
       "   Unnamed: 0 experience                                    job_description  \\\n",
       "0           0    5-7 yrs  Exp: Minimum 5 years;Good understanding of IOC...   \n",
       "1           1  10-17 yrs  He should have handled a team of atleast 5-6 d...   \n",
       "2           2    5-9 yrs  Must be an effective communicator (written & s...   \n",
       "3           3   7-10 yrs  7  -  10 years of overall experience in data e...   \n",
       "4           4    1-3 yrs  Chartered Accountancy degree or MBA in Finance...   \n",
       "\n",
       "                                           job_desig   job_type  \\\n",
       "0        Senior Exploit and Vulnerability Researcher        NaN   \n",
       "1                                           Head SCM        NaN   \n",
       "2  Deputy Manager - Talent Management & Leadershi...  Analytics   \n",
       "3                 Associate Manager Data Engineering  Analytics   \n",
       "4                            TS- GSA- Senior Analyst        NaN   \n",
       "\n",
       "                                          key_skills               location  \\\n",
       "0  team skills, communication skills, analytical ...  Delhi NCR(Vikas Puri)   \n",
       "1  ppc, logistics, inventory management, supply c...                Sonepat   \n",
       "2  HR Analytics, Employee Engagement, Training, S...              Delhi NCR   \n",
       "3  SQL, Javascript, Automation, Python, Ruby, Ana...              Bengaluru   \n",
       "4  accounting, finance, cash flow, financial plan...                Gurgaon   \n",
       "\n",
       "   salary  company_name_encoded  \n",
       "0   6to10                  3687  \n",
       "1  10to15                   458  \n",
       "2  15to25                  4195  \n",
       "3  10to15                   313  \n",
       "4    3to6                  1305  "
      ]
     },
     "execution_count": 3,
     "metadata": {},
     "output_type": "execute_result"
    }
   ],
   "source": [
    "# Read data from file 'salary_data/train.csv' \n",
    "# (in the same directory that your python process is based\n",
    "df = pd.read_csv(\"salary_data/train.csv\")\n",
    "\n",
    "# Preview the first 5 lines of the loaded data \n",
    "df.head()"
   ]
  },
  {
   "cell_type": "code",
   "execution_count": 17,
   "metadata": {},
   "outputs": [
    {
     "data": {
      "text/plain": [
       "Index(['experience', 'job_description', 'job_desig', 'job_type', 'key_skills',\n",
       "       'location', 'salary', 'company_name_encoded', 'exp_avg'],\n",
       "      dtype='object')"
      ]
     },
     "execution_count": 17,
     "metadata": {},
     "output_type": "execute_result"
    }
   ],
   "source": [
    "# Drop index column, inplace means that the function modifies the actual df\n",
    "\n",
    "df.drop([\"Unnamed: 0\"], inplace=True, axis = 1 )\n",
    "df.columns"
   ]
  },
  {
   "cell_type": "code",
   "execution_count": 27,
   "metadata": {},
   "outputs": [
    {
     "data": {
      "text/plain": [
       "12.5    4500\n",
       "20.0    4125\n",
       "8.0     3533\n",
       "1.5     3245\n",
       "4.5     2824\n",
       "37.5    1575\n",
       "Name: salary_avg, dtype: int64"
      ]
     },
     "execution_count": 27,
     "metadata": {},
     "output_type": "execute_result"
    }
   ],
   "source": [
    "# Average Salary\n",
    "\n",
    "df[\"salary_avg\"] = df[\"salary\"].apply(lambda x: (int(x.split(\"to\")[0]) + int(x.split(\"to\")[1])) / 2 )\n",
    "df[\"salary_avg\"].value_counts()"
   ]
  },
  {
   "cell_type": "code",
   "execution_count": 9,
   "metadata": {},
   "outputs": [
    {
     "data": {
      "text/plain": [
       "0      5-7\n",
       "1    10-17\n",
       "2      5-9\n",
       "3     7-10\n",
       "4      1-3\n",
       "Name: exp_avg, dtype: object"
      ]
     },
     "execution_count": 9,
     "metadata": {},
     "output_type": "execute_result"
    }
   ],
   "source": [
    "# Average years of experience required\n",
    "\n",
    "df[\"exp_avg\"] = df[\"experience\"].apply(lambda x: x[:-4])\n",
    "df[\"exp_avg\"] = df[\"exp_avg\"].apply(lambda x: (int(x.split(\"-\")[0]) + int(x.split(\"-\")[1])) / 2 )"
   ]
  },
  {
   "cell_type": "code",
   "execution_count": 12,
   "metadata": {},
   "outputs": [
    {
     "data": {
      "text/plain": [
       "3.5     1770\n",
       "4.5     1537\n",
       "7.5     1431\n",
       "6.5     1267\n",
       "5.5     1244\n",
       "4.0     1135\n",
       "3.0     1071\n",
       "2.5     1020\n",
       "6.0      755\n",
       "5.0      751\n",
       "2.0      729\n",
       "9.5      715\n",
       "8.5      685\n",
       "10.5     576\n",
       "12.5     497\n",
       "1.5      490\n",
       "10.0     462\n",
       "8.0      428\n",
       "7.0      401\n",
       "1.0      388\n",
       "0.5      296\n",
       "9.0      277\n",
       "15.0     267\n",
       "11.5     233\n",
       "11.0     190\n",
       "14.0     178\n",
       "13.5     168\n",
       "0.0      151\n",
       "13.0     132\n",
       "17.5      92\n",
       "12.0      84\n",
       "16.0      75\n",
       "20.0      66\n",
       "14.5      54\n",
       "15.5      36\n",
       "16.5      30\n",
       "17.0      28\n",
       "18.0      22\n",
       "18.5      21\n",
       "19.0      14\n",
       "21.5      12\n",
       "21.0       7\n",
       "25.0       6\n",
       "19.5       3\n",
       "24.0       2\n",
       "22.0       2\n",
       "20.5       1\n",
       "26.5       1\n",
       "22.5       1\n",
       "23.0       1\n",
       "Name: exp_avg, dtype: int64"
      ]
     },
     "execution_count": 12,
     "metadata": {},
     "output_type": "execute_result"
    }
   ],
   "source": [
    "# Extrack key tools from job_description\n",
    "\n",
    "\n",
    "\n",
    "# Extract Tittle of job (Senior, Junior, analyst, engineer)\n",
    "\n",
    "# Extract some key skills\n",
    "\n",
    "# Extract some location and normalize"
   ]
  },
  {
   "cell_type": "code",
   "execution_count": 28,
   "metadata": {},
   "outputs": [
    {
     "ename": "TypeError",
     "evalue": "object of type 'float' has no len()",
     "output_type": "error",
     "traceback": [
      "\u001b[1;31m---------------------------------------------------------------------------\u001b[0m",
      "\u001b[1;31mTypeError\u001b[0m                                 Traceback (most recent call last)",
      "\u001b[1;32m<ipython-input-28-575942319936>\u001b[0m in \u001b[0;36m<module>\u001b[1;34m\u001b[0m\n\u001b[0;32m      1\u001b[0m \u001b[1;31m# Length of job description\u001b[0m\u001b[1;33m\u001b[0m\u001b[1;33m\u001b[0m\u001b[1;33m\u001b[0m\u001b[0m\n\u001b[0;32m      2\u001b[0m \u001b[1;33m\u001b[0m\u001b[0m\n\u001b[1;32m----> 3\u001b[1;33m \u001b[0mdf\u001b[0m\u001b[1;33m[\u001b[0m\u001b[1;34m\"description_length\"\u001b[0m\u001b[1;33m]\u001b[0m \u001b[1;33m=\u001b[0m \u001b[0mdf\u001b[0m\u001b[1;33m[\u001b[0m\u001b[1;34m\"job_description\"\u001b[0m\u001b[1;33m]\u001b[0m\u001b[1;33m.\u001b[0m\u001b[0mapply\u001b[0m\u001b[1;33m(\u001b[0m\u001b[1;32mlambda\u001b[0m \u001b[0mx\u001b[0m\u001b[1;33m:\u001b[0m \u001b[0mlen\u001b[0m\u001b[1;33m(\u001b[0m\u001b[0mx\u001b[0m\u001b[1;33m)\u001b[0m\u001b[1;33m)\u001b[0m\u001b[1;33m\u001b[0m\u001b[1;33m\u001b[0m\u001b[0m\n\u001b[0m\u001b[0;32m      4\u001b[0m \u001b[0mdf\u001b[0m\u001b[1;33m[\u001b[0m\u001b[1;34m\"description_length\"\u001b[0m\u001b[1;33m]\u001b[0m\u001b[1;33m.\u001b[0m\u001b[0mdescribe\u001b[0m\u001b[1;33m(\u001b[0m\u001b[1;33m)\u001b[0m\u001b[1;33m\u001b[0m\u001b[1;33m\u001b[0m\u001b[0m\n",
      "\u001b[1;32m~\\anaconda3\\lib\\site-packages\\pandas\\core\\series.py\u001b[0m in \u001b[0;36mapply\u001b[1;34m(self, func, convert_dtype, args, **kwds)\u001b[0m\n\u001b[0;32m   4198\u001b[0m             \u001b[1;32melse\u001b[0m\u001b[1;33m:\u001b[0m\u001b[1;33m\u001b[0m\u001b[1;33m\u001b[0m\u001b[0m\n\u001b[0;32m   4199\u001b[0m                 \u001b[0mvalues\u001b[0m \u001b[1;33m=\u001b[0m \u001b[0mself\u001b[0m\u001b[1;33m.\u001b[0m\u001b[0mastype\u001b[0m\u001b[1;33m(\u001b[0m\u001b[0mobject\u001b[0m\u001b[1;33m)\u001b[0m\u001b[1;33m.\u001b[0m\u001b[0m_values\u001b[0m\u001b[1;33m\u001b[0m\u001b[1;33m\u001b[0m\u001b[0m\n\u001b[1;32m-> 4200\u001b[1;33m                 \u001b[0mmapped\u001b[0m \u001b[1;33m=\u001b[0m \u001b[0mlib\u001b[0m\u001b[1;33m.\u001b[0m\u001b[0mmap_infer\u001b[0m\u001b[1;33m(\u001b[0m\u001b[0mvalues\u001b[0m\u001b[1;33m,\u001b[0m \u001b[0mf\u001b[0m\u001b[1;33m,\u001b[0m \u001b[0mconvert\u001b[0m\u001b[1;33m=\u001b[0m\u001b[0mconvert_dtype\u001b[0m\u001b[1;33m)\u001b[0m\u001b[1;33m\u001b[0m\u001b[1;33m\u001b[0m\u001b[0m\n\u001b[0m\u001b[0;32m   4201\u001b[0m \u001b[1;33m\u001b[0m\u001b[0m\n\u001b[0;32m   4202\u001b[0m         \u001b[1;32mif\u001b[0m \u001b[0mlen\u001b[0m\u001b[1;33m(\u001b[0m\u001b[0mmapped\u001b[0m\u001b[1;33m)\u001b[0m \u001b[1;32mand\u001b[0m \u001b[0misinstance\u001b[0m\u001b[1;33m(\u001b[0m\u001b[0mmapped\u001b[0m\u001b[1;33m[\u001b[0m\u001b[1;36m0\u001b[0m\u001b[1;33m]\u001b[0m\u001b[1;33m,\u001b[0m \u001b[0mSeries\u001b[0m\u001b[1;33m)\u001b[0m\u001b[1;33m:\u001b[0m\u001b[1;33m\u001b[0m\u001b[1;33m\u001b[0m\u001b[0m\n",
      "\u001b[1;32mpandas\\_libs\\lib.pyx\u001b[0m in \u001b[0;36mpandas._libs.lib.map_infer\u001b[1;34m()\u001b[0m\n",
      "\u001b[1;32m<ipython-input-28-575942319936>\u001b[0m in \u001b[0;36m<lambda>\u001b[1;34m(x)\u001b[0m\n\u001b[0;32m      1\u001b[0m \u001b[1;31m# Length of job description\u001b[0m\u001b[1;33m\u001b[0m\u001b[1;33m\u001b[0m\u001b[1;33m\u001b[0m\u001b[0m\n\u001b[0;32m      2\u001b[0m \u001b[1;33m\u001b[0m\u001b[0m\n\u001b[1;32m----> 3\u001b[1;33m \u001b[0mdf\u001b[0m\u001b[1;33m[\u001b[0m\u001b[1;34m\"description_length\"\u001b[0m\u001b[1;33m]\u001b[0m \u001b[1;33m=\u001b[0m \u001b[0mdf\u001b[0m\u001b[1;33m[\u001b[0m\u001b[1;34m\"job_description\"\u001b[0m\u001b[1;33m]\u001b[0m\u001b[1;33m.\u001b[0m\u001b[0mapply\u001b[0m\u001b[1;33m(\u001b[0m\u001b[1;32mlambda\u001b[0m \u001b[0mx\u001b[0m\u001b[1;33m:\u001b[0m \u001b[0mlen\u001b[0m\u001b[1;33m(\u001b[0m\u001b[0mx\u001b[0m\u001b[1;33m)\u001b[0m\u001b[1;33m)\u001b[0m\u001b[1;33m\u001b[0m\u001b[1;33m\u001b[0m\u001b[0m\n\u001b[0m\u001b[0;32m      4\u001b[0m \u001b[0mdf\u001b[0m\u001b[1;33m[\u001b[0m\u001b[1;34m\"description_length\"\u001b[0m\u001b[1;33m]\u001b[0m\u001b[1;33m.\u001b[0m\u001b[0mdescribe\u001b[0m\u001b[1;33m(\u001b[0m\u001b[1;33m)\u001b[0m\u001b[1;33m\u001b[0m\u001b[1;33m\u001b[0m\u001b[0m\n",
      "\u001b[1;31mTypeError\u001b[0m: object of type 'float' has no len()"
     ]
    }
   ],
   "source": [
    "# Length of job description\n",
    "\n",
    "df[\"description_length\"] = df[\"job_description\"].apply(lambda x: len(x))\n",
    "df[\"description_length\"].describe"
   ]
  },
  {
   "cell_type": "code",
   "execution_count": 30,
   "metadata": {},
   "outputs": [
    {
     "data": {
      "text/plain": [
       "0        Exp: Minimum 5 years;Good understanding of IOC...\n",
       "1        He should have handled a team of atleast 5-6 d...\n",
       "2        Must be an effective communicator (written & s...\n",
       "3        7  -  10 years of overall experience in data e...\n",
       "4        Chartered Accountancy degree or MBA in Finance...\n",
       "                               ...                        \n",
       "19797                                                  NaN\n",
       "19798                                                  NaN\n",
       "19799    Annuities Domain experience is mandatory;Work ...\n",
       "19800    - By plugging into our market-leading global n...\n",
       "19801    - 3-5 years experience with the end to end pro...\n",
       "Name: job_description, Length: 19802, dtype: object"
      ]
     },
     "execution_count": 30,
     "metadata": {},
     "output_type": "execute_result"
    }
   ],
   "source": [
    "df[\"job_description\"]"
   ]
  }
 ],
 "metadata": {
  "kernelspec": {
   "display_name": "Python 3",
   "language": "python",
   "name": "python3"
  },
  "language_info": {
   "codemirror_mode": {
    "name": "ipython",
    "version": 3
   },
   "file_extension": ".py",
   "mimetype": "text/x-python",
   "name": "python",
   "nbconvert_exporter": "python",
   "pygments_lexer": "ipython3",
   "version": "3.8.5"
  }
 },
 "nbformat": 4,
 "nbformat_minor": 4
}
